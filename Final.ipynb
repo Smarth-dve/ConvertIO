{
 "cells": [
  {
   "attachments": {},
   "cell_type": "markdown",
   "metadata": {},
   "source": [
    "# ConvertIO\n",
    "\n",
    "Prerequisites: Python should be properly installed in the system. All the modules and required dependencies should be present and installed.\n",
    "\n",
    "Python modules required: Youtube-transctipt-api pydub pytube moviepy Gtts googletrans\n",
    "\n",
    "Instructions:\n",
    "\n",
    "User need to Enter: 1. YouTube URL 2. The Language ID.\n",
    "\n",
    "Insert YouTube URL in the transcript.py file under the section video_url = 'video_url'\n",
    "\n",
    "Insert Language ID in the transcript.py file under the section language = 'languageID'\n",
    "\n",
    "Reference for the language IDs: https://py-googletrans.readthedocs.io/en/latest/\n"
   ]
  },
  {
   "cell_type": "code",
   "execution_count": 4,
   "metadata": {},
   "outputs": [
    {
     "name": "stdout",
     "output_type": "stream",
     "text": [
      "Requirement already satisfied: Youtube-transcript-api in c:\\python310\\lib\\site-packages (0.5.0)\n",
      "Requirement already satisfied: pydub in c:\\python310\\lib\\site-packages (0.25.1)\n",
      "Requirement already satisfied: pytube in c:\\python310\\lib\\site-packages (12.1.0)\n",
      "Requirement already satisfied: moviepy in c:\\python310\\lib\\site-packages (1.0.3)\n",
      "Requirement already satisfied: Gtts in c:\\python310\\lib\\site-packages (2.3.0)\n",
      "Requirement already satisfied: googletrans in c:\\python310\\lib\\site-packages (3.0.0)\n",
      "Requirement already satisfied: deep_translator in c:\\python310\\lib\\site-packages (1.9.1)\n",
      "Requirement already satisfied: requests in c:\\python310\\lib\\site-packages (from Youtube-transcript-api) (2.28.1)\n",
      "Requirement already satisfied: numpy>=1.17.3 in c:\\python310\\lib\\site-packages (from moviepy) (1.22.3)\n",
      "Requirement already satisfied: imageio-ffmpeg>=0.2.0 in c:\\python310\\lib\\site-packages (from moviepy) (0.4.8)\n",
      "Requirement already satisfied: decorator<5.0,>=4.0.2 in c:\\python310\\lib\\site-packages (from moviepy) (4.4.2)\n",
      "Requirement already satisfied: proglog<=1.0.0 in c:\\python310\\lib\\site-packages (from moviepy) (0.1.10)\n",
      "Requirement already satisfied: tqdm<5.0,>=4.11.2 in c:\\python310\\lib\\site-packages (from moviepy) (4.64.1)\n",
      "Requirement already satisfied: imageio<3.0,>=2.5 in c:\\python310\\lib\\site-packages (from moviepy) (2.24.0)\n",
      "Requirement already satisfied: six~=1.16.0 in c:\\python310\\lib\\site-packages (from Gtts) (1.16.0)\n",
      "Requirement already satisfied: click~=8.1.3 in c:\\python310\\lib\\site-packages (from Gtts) (8.1.3)\n",
      "Requirement already satisfied: httpx==0.13.3 in c:\\python310\\lib\\site-packages (from googletrans) (0.13.3)\n",
      "Requirement already satisfied: chardet==3.* in c:\\python310\\lib\\site-packages (from httpx==0.13.3->googletrans) (3.0.4)\n",
      "Requirement already satisfied: idna==2.* in c:\\python310\\lib\\site-packages (from httpx==0.13.3->googletrans) (2.10)\n",
      "Requirement already satisfied: sniffio in c:\\python310\\lib\\site-packages (from httpx==0.13.3->googletrans) (1.3.0)\n",
      "Requirement already satisfied: httpcore==0.9.* in c:\\python310\\lib\\site-packages (from httpx==0.13.3->googletrans) (0.9.1)\n",
      "Requirement already satisfied: rfc3986<2,>=1.3 in c:\\python310\\lib\\site-packages (from httpx==0.13.3->googletrans) (1.5.0)\n",
      "Requirement already satisfied: certifi in c:\\python310\\lib\\site-packages (from httpx==0.13.3->googletrans) (2022.5.18.1)\n",
      "Requirement already satisfied: hstspreload in c:\\python310\\lib\\site-packages (from httpx==0.13.3->googletrans) (2023.1.1)\n",
      "Requirement already satisfied: h11<0.10,>=0.8 in c:\\python310\\lib\\site-packages (from httpcore==0.9.*->httpx==0.13.3->googletrans) (0.9.0)\n",
      "Requirement already satisfied: h2==3.* in c:\\python310\\lib\\site-packages (from httpcore==0.9.*->httpx==0.13.3->googletrans) (3.2.0)\n",
      "Requirement already satisfied: hpack<4,>=3.0 in c:\\python310\\lib\\site-packages (from h2==3.*->httpcore==0.9.*->httpx==0.13.3->googletrans) (3.0.0)\n",
      "Requirement already satisfied: hyperframe<6,>=5.2.0 in c:\\python310\\lib\\site-packages (from h2==3.*->httpcore==0.9.*->httpx==0.13.3->googletrans) (5.2.0)\n",
      "Requirement already satisfied: beautifulsoup4<5.0.0,>=4.9.1 in c:\\python310\\lib\\site-packages (from deep_translator) (4.11.1)\n",
      "Requirement already satisfied: soupsieve>1.2 in c:\\python310\\lib\\site-packages (from beautifulsoup4<5.0.0,>=4.9.1->deep_translator) (2.3.2.post1)\n",
      "Requirement already satisfied: colorama in c:\\python310\\lib\\site-packages (from click~=8.1.3->Gtts) (0.4.4)\n",
      "Requirement already satisfied: pillow>=8.3.2 in c:\\python310\\lib\\site-packages (from imageio<3.0,>=2.5->moviepy) (9.1.0)\n",
      "Requirement already satisfied: urllib3<1.27,>=1.21.1 in c:\\python310\\lib\\site-packages (from requests->Youtube-transcript-api) (1.26.9)\n",
      "Requirement already satisfied: charset-normalizer<3,>=2 in c:\\python310\\lib\\site-packages (from requests->Youtube-transcript-api) (2.0.12)\n"
     ]
    }
   ],
   "source": [
    "!pip install Youtube-transcript-api pydub pytube moviepy Gtts googletrans deep_translator"
   ]
  },
  {
   "cell_type": "code",
   "execution_count": 5,
   "metadata": {},
   "outputs": [
    {
     "name": "stdout",
     "output_type": "stream",
     "text": [
      "0%\n",
      "1%\n",
      "3%\n",
      "4%\n",
      "6%\n",
      "8%\n",
      "9%\n",
      "11%\n",
      "13%\n",
      "14%\n",
      "16%\n",
      "18%\n",
      "19%\n",
      "21%\n",
      "22%\n",
      "24%\n",
      "26%\n",
      "27%\n",
      "29%\n",
      "31%\n",
      "32%\n",
      "34%\n",
      "36%\n",
      "37%\n",
      "39%\n",
      "40%\n",
      "42%\n",
      "44%\n",
      "45%\n",
      "47%\n",
      "49%\n",
      "50%\n",
      "52%\n",
      "54%\n",
      "55%\n",
      "57%\n",
      "59%\n",
      "60%\n",
      "62%\n",
      "63%\n",
      "65%\n",
      "67%\n",
      "68%\n",
      "70%\n",
      "72%\n",
      "73%\n",
      "75%\n",
      "77%\n",
      "78%\n",
      "80%\n",
      "81%\n",
      "83%\n",
      "85%\n",
      "86%\n",
      "88%\n",
      "90%\n",
      "91%\n",
      "93%\n",
      "95%\n",
      "96%\n",
      "98%\n",
      "done\n"
     ]
    }
   ],
   "source": [
    "from youtube_transcript_api import YouTubeTranscriptApi\n",
    "from gtts import gTTS\n",
    "from pydub import AudioSegment\n",
    "import pydub\n",
    "from pydub.playback import play\n",
    "import pytube  \n",
    "from pytube import YouTube\n",
    "# from translate import Translator\n",
    "from deep_translator import GoogleTranslator\n",
    "\n",
    "AudioSegment.ffmpeg = \"C:\\\\ffmpeg\\\\bin\\\\ffmpeg.exe\"\n",
    "\n",
    "try:\n",
    "    video_url = 'https://youtu.be/ux8lsj1FT6k'\n",
    "\n",
    "    vidid = pytube.YouTube(video_url).video_id\n",
    "\n",
    "    audio_out = \"finalout.wav\"\n",
    "\n",
    "    # translator= Translator(from_lang=\"English\", to_lang=\"French\")\n",
    "\n",
    "    mylist = YouTubeTranscriptApi.get_transcript(vidid)\n",
    "\n",
    "    length = len(mylist)\n",
    "\n",
    "    startpoint = mylist[0]['start']\n",
    "\n",
    "    startsegment = AudioSegment.silent(duration=startpoint*1000)\n",
    "\n",
    "    audio_out = startsegment\n",
    "\n",
    "    language = 'en'\n",
    "    for i in range(length):\n",
    "        txt = (mylist[i]['text'])\n",
    "        due = (mylist[i]['duration'])\n",
    "        myText = GoogleTranslator(source='auto', target=language).translate(txt)\n",
    "        filename = '.\\\\ttsout.wav'\n",
    "        tts = gTTS(text = myText, lang = language, tld = 'CA', slow = False)\n",
    "        tts.save('ttsout.wav')\n",
    "        aud1 = AudioSegment.from_file(filename)\n",
    "        aud2 = AudioSegment.silent(duration=(due)*1000)\n",
    "        output = aud2.overlay(aud1)\n",
    "        audio_out = audio_out + output\n",
    "        print(str(int((i/length)*100)) + \"%\") \n",
    "    audio_out.export(\"finalout.mp3\")\n",
    "    print(\"done\")\n",
    "\n",
    "except Exception as e:\n",
    "    print(e)"
   ]
  },
  {
   "cell_type": "code",
   "execution_count": 6,
   "metadata": {},
   "outputs": [
    {
     "name": "stdout",
     "output_type": "stream",
     "text": [
      "fetching video url\n",
      "extracting video\n",
      "streaming video\n",
      "Downloading\n",
      "Downloaded\n"
     ]
    }
   ],
   "source": [
    "import pytube  \n",
    "from pytube import YouTube  \n",
    "print('fetching video url')\n",
    "video_url = 'https://youtu.be/ux8lsj1FT6k'\n",
    "print('extracting video')\n",
    "youtube = pytube.YouTube(video_url)  \n",
    "print('streaming video')\n",
    "print(\"Downloading\")\n",
    "video = YouTube(video_url).streams.get_highest_resolution().download(filename=\"outvideo.mp4\")\n",
    "print(\"Downloaded\")"
   ]
  },
  {
   "cell_type": "code",
   "execution_count": 7,
   "metadata": {},
   "outputs": [
    {
     "name": "stdout",
     "output_type": "stream",
     "text": [
      "Moviepy - Building video frenchTranslated.mp4.\n",
      "MoviePy - Writing audio in frenchTranslatedTEMP_MPY_wvf_snd.mp3\n"
     ]
    },
    {
     "name": "stderr",
     "output_type": "stream",
     "text": [
      "                                                                      \r"
     ]
    },
    {
     "name": "stdout",
     "output_type": "stream",
     "text": [
      "MoviePy - Done.\n",
      "Moviepy - Writing video frenchTranslated.mp4\n",
      "\n"
     ]
    },
    {
     "name": "stderr",
     "output_type": "stream",
     "text": [
      "                                                                  \r"
     ]
    },
    {
     "name": "stdout",
     "output_type": "stream",
     "text": [
      "Moviepy - Done !\n",
      "Moviepy - video ready frenchTranslated.mp4\n"
     ]
    }
   ],
   "source": [
    "def combine_audio(vidname, audname, outname, fps=60): \n",
    "    import moviepy.editor as mpe\n",
    "    my_clip = mpe.VideoFileClip(vidname)\n",
    "    audio_background = mpe.AudioFileClip(audname)\n",
    "    final_clip = my_clip.set_audio(audio_background)\n",
    "    final_clip.write_videofile(outname,fps=fps)\n",
    "\n",
    "combine_audio(\"outvideo.mp4\", \"finalout.mp3\", \"frenchTranslated.mp4\")"
   ]
  }
 ],
 "metadata": {
  "kernelspec": {
   "display_name": "Python 3",
   "language": "python",
   "name": "python3"
  },
  "language_info": {
   "codemirror_mode": {
    "name": "ipython",
    "version": 3
   },
   "file_extension": ".py",
   "mimetype": "text/x-python",
   "name": "python",
   "nbconvert_exporter": "python",
   "pygments_lexer": "ipython3",
   "version": "3.10.5"
  },
  "orig_nbformat": 4,
  "vscode": {
   "interpreter": {
    "hash": "c19fa61d258bb2b35aae2ada233c33e2817c1ce895aa48acba720c6bf7cbe3cb"
   }
  }
 },
 "nbformat": 4,
 "nbformat_minor": 2
}
